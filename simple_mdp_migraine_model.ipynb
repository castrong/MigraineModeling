{
 "cells": [
  {
   "cell_type": "code",
   "execution_count": 2,
   "metadata": {},
   "outputs": [],
   "source": [
    "# first import the POMDPs.jl interface\n",
    "using POMDPs\n",
    "# POMDPModelTools has tools that help build the MDP definition\n",
    "using POMDPModelTools\n",
    "# POMDPPolicies provides functions to help define simple policies\n",
    "using POMDPPolicies\n",
    "# POMDPSimulators provide functions for running MDP simulations\n",
    "using POMDPSimulators\n",
    "     "
   ]
  },
  {
   "cell_type": "code",
   "execution_count": 22,
   "metadata": {},
   "outputs": [
    {
     "data": {
      "text/plain": [
       "int_to_binary_vector (generic function with 2 methods)"
      ]
     },
     "metadata": {},
     "output_type": "display_data"
    }
   ],
   "source": [
    "function int_to_binary_vector(x, desired_length=8)\n",
    "    digits = [parse(Int, i) for i in string(x, base=2)]\n",
    "    n_to_pad = desired_length - length(digits)\n",
    "    return [zeros(n_to_pad); digits]\n",
    "end\n",
    "\n",
    "sigmoid(x) =1 /(1 + exp(-x))\n"
   ]
  },
  {
   "cell_type": "code",
   "execution_count": 4,
   "metadata": {},
   "outputs": [
    {
     "data": {
      "text/plain": [
       "SimpleMigraineMDP(1.0, [1.0, 1.0], 0.0, 0.95)"
      ]
     },
     "metadata": {},
     "output_type": "display_data"
    }
   ],
   "source": [
    "# Define the tables and return a tabular POMDP\n",
    "function SimpleMigraineMDP(;state_coeff = 1.0, action_coeffs = [1.0, 1.0], shift = 0.0, discount_factor = 0.95)\n",
    "    n_actions = 2^len(action_coeffs)\n",
    "    \n",
    "    T = zeros(2, n_actions, 2)\n",
    "    # T[sp, a, s]\n",
    "\n",
    "    for a = 0:(n_actions-1)\n",
    "        for s = 0:1\n",
    "            a_binary = int_to_binary_vector(a, len(action_coeffs))\n",
    "            T[1, a+1, s+1]\n",
    "        end\n",
    "    end\n",
    "\n",
    "\n",
    "end\n",
    "\n",
    "# m = TabularPOMDP(T, R, O, 0.95)"
   ]
  },
  {
   "cell_type": "code",
   "execution_count": null,
   "metadata": {},
   "outputs": [],
   "source": []
  }
 ],
 "metadata": {
  "kernelspec": {
   "display_name": "Julia 1.9.3",
   "language": "julia",
   "name": "julia-1.9"
  },
  "language_info": {
   "file_extension": ".jl",
   "mimetype": "application/julia",
   "name": "julia",
   "version": "1.9.3"
  },
  "orig_nbformat": 4
 },
 "nbformat": 4,
 "nbformat_minor": 2
}
