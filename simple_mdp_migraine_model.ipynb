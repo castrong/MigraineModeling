{
 "cells": [
  {
   "cell_type": "code",
   "execution_count": 2,
   "metadata": {},
   "outputs": [],
   "source": [
    "# first import the POMDPs.jl interface\n",
    "using POMDPs\n",
    "# POMDPModelTools has tools that help build the MDP definition\n",
    "using POMDPModelTools\n",
    "# POMDPPolicies provides functions to help define simple policies\n",
    "using POMDPPolicies\n",
    "# POMDPSimulators provide functions for running MDP simulations\n",
    "using POMDPSimulators\n",
    "     "
   ]
  },
  {
   "cell_type": "code",
   "execution_count": 13,
   "metadata": {},
   "outputs": [
    {
     "data": {
      "text/plain": [
       "int_to_binary_vector (generic function with 2 methods)"
      ]
     },
     "metadata": {},
     "output_type": "display_data"
    }
   ],
   "source": [
    "function int_to_binary_vector(x, length=8)\n",
    "    digits = [parse(Int, i) for i in string(x, base=2)]\n",
    "    n_to_pad = length - length(digits)\n",
    "    println(zeros(n_to_pad))\n",
    "    println(digits)\n",
    "    # return [zeros(Int, n_to_pad); digits]\n",
    "end"
   ]
  },
  {
   "cell_type": "code",
   "execution_count": 14,
   "metadata": {},
   "outputs": [
    {
     "ename": "MethodError",
     "evalue": "MethodError: objects of type Int64 are not callable\nMaybe you forgot to use an operator such as *, ^, %, / etc. ?",
     "output_type": "error",
     "traceback": [
      "MethodError: objects of type Int64 are not callable\n",
      "Maybe you forgot to use an operator such as *, ^, %, / etc. ?\n",
      "\n",
      "Stacktrace:\n",
      " [1] int_to_binary_vector(x::Int64, length::Int64)\n",
      "   @ Main ~/Desktop/Berkeley/Research/MigraineModeling/simple_mdp_migraine_model.ipynb:3\n",
      " [2] int_to_binary_vector(x::Int64)\n",
      "   @ Main ~/Desktop/Berkeley/Research/MigraineModeling/simple_mdp_migraine_model.ipynb:2\n",
      " [3] top-level scope\n",
      "   @ ~/Desktop/Berkeley/Research/MigraineModeling/simple_mdp_migraine_model.ipynb:1"
     ]
    }
   ],
   "source": [
    "int_to_binary_vector(5)"
   ]
  },
  {
   "cell_type": "code",
   "execution_count": 4,
   "metadata": {},
   "outputs": [
    {
     "data": {
      "text/plain": [
       "SimpleMigraineMDP(1.0, [1.0, 1.0], 0.0, 0.95)"
      ]
     },
     "metadata": {},
     "output_type": "display_data"
    }
   ],
   "source": [
    "# Define the tables and return a tabular POMDP\n",
    "function SimpleMigraineMDP(;state_coeff = 1.0, action_coeffs = [1.0, 1.0], shift = 0.0, discount_factor = 0.95)\n",
    "    n_actions = 2^len(action_coeffs)\n",
    "    \n",
    "    T = zeros(2, n_actions, 2)\n",
    "    # T[sp, a, s]\n",
    "end\n",
    "\n",
    "# m = TabularPOMDP(T, R, O, 0.95)"
   ]
  },
  {
   "cell_type": "code",
   "execution_count": null,
   "metadata": {},
   "outputs": [],
   "source": []
  }
 ],
 "metadata": {
  "kernelspec": {
   "display_name": "Julia 1.9.3",
   "language": "julia",
   "name": "julia-1.9"
  },
  "language_info": {
   "file_extension": ".jl",
   "mimetype": "application/julia",
   "name": "julia",
   "version": "1.9.3"
  },
  "orig_nbformat": 4
 },
 "nbformat": 4,
 "nbformat_minor": 2
}
