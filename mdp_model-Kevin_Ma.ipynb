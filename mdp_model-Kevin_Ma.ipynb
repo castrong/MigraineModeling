{
 "cells": [
  {
   "cell_type": "code",
   "execution_count": 38,
   "metadata": {},
   "outputs": [],
   "source": [
    "import gym\n",
    "from gym import spaces\n",
    "import numpy as np\n",
    "import math\n",
    "import matplotl"
   ]
  },
  {
   "cell_type": "code",
   "execution_count": 39,
   "metadata": {},
   "outputs": [],
   "source": [
    "def sigmoid(x):\n",
    "  return 1 / (1 + math.exp(-x))"
   ]
  },
  {
   "cell_type": "code",
   "execution_count": 40,
   "metadata": {},
   "outputs": [
    {
     "name": "stdout",
     "output_type": "stream",
     "text": [
      "[array([1, 0, 1], dtype=int8), array([1, 0, 1], dtype=int8), array([0, 1, 1], dtype=int8), array([1, 0, 0], dtype=int8), array([1, 0, 0], dtype=int8)]\n"
     ]
    }
   ],
   "source": [
    "space = spaces.MultiBinary(3)\n",
    "print([space.sample() for _ in range(5)])"
   ]
  },
  {
   "cell_type": "code",
   "execution_count": 41,
   "metadata": {},
   "outputs": [],
   "source": [
    "class MigraineEnv(gym.Env):\n",
    "    def __init__(self, num_triggers: int = 2, horizon: int = 20):\n",
    "        self.num_triggers = num_triggers\n",
    "        self.horizon = horizon\n",
    "        self.timestep = 0\n",
    "        self.observation_space = spaces.Discrete(2)  # 0: no migraine, 1: migraine\n",
    "        self.action_space = spaces.MultiBinary(num_triggers)  # binary representation\n",
    "        self.state = self.observation_space.sample()\n",
    "        self.history = np.zeros((horizon, num_triggers))  # Store action history\n",
    "\n",
    "    def reset(self):\n",
    "        self.state = self.observation_space.sample()\n",
    "        self.timestep = 0\n",
    "        self.history = np.zeros((self.horizon, self.num_triggers))\n",
    "        return self.state\n",
    "\n",
    "    def step(self, action: np.array):\n",
    "        self.history[self.timestep] = action\n",
    "        y_nat = np.random.normal(0, 1)  # Sample from N(0, 1)\n",
    "        h_matrix = np.random.binomial(1, 0.5, (self.num_triggers, self.timestep + 1))\n",
    "        y_next = y_nat\n",
    "\n",
    "        for j in range(self.num_triggers):\n",
    "            for k in range(self.timestep + 1):\n",
    "                y_next += h_matrix[j, k] * self.history[self.timestep - k, j]\n",
    "\n",
    "        self.state = 1 if y_next > 0 else 0  # If y_next is positive, there is a migraine\n",
    "        self.timestep += 1\n",
    "        done = self.timestep >= self.horizon\n",
    "        return self.state, 0, done, {}\n",
    "\n",
    "    def render(self, mode='human'):\n",
    "        pass"
   ]
  },
  {
   "cell_type": "code",
   "execution_count": 42,
   "metadata": {},
   "outputs": [
    {
     "ename": "NameError",
     "evalue": "name 'plt' is not defined",
     "output_type": "error",
     "traceback": [
      "\u001b[1;31m---------------------------------------------------------------------------\u001b[0m",
      "\u001b[1;31mNameError\u001b[0m                                 Traceback (most recent call last)",
      "Input \u001b[1;32mIn [42]\u001b[0m, in \u001b[0;36m<cell line: 18>\u001b[1;34m()\u001b[0m\n\u001b[0;32m     15\u001b[0m             \u001b[38;5;28;01mbreak\u001b[39;00m\n\u001b[0;32m     17\u001b[0m \u001b[38;5;66;03m# Plotting\u001b[39;00m\n\u001b[1;32m---> 18\u001b[0m \u001b[43mplt\u001b[49m\u001b[38;5;241m.\u001b[39mplot(\u001b[38;5;28mrange\u001b[39m(\u001b[38;5;28mlen\u001b[39m(states)), states, label\u001b[38;5;241m=\u001b[39m\u001b[38;5;124m'\u001b[39m\u001b[38;5;124mWellness (y_t+1)\u001b[39m\u001b[38;5;124m'\u001b[39m)\n\u001b[0;32m     19\u001b[0m plt\u001b[38;5;241m.\u001b[39mplot(\u001b[38;5;28mrange\u001b[39m(\u001b[38;5;28mlen\u001b[39m(actions)), [a[\u001b[38;5;241m0\u001b[39m] \u001b[38;5;28;01mfor\u001b[39;00m a \u001b[38;5;129;01min\u001b[39;00m actions], label\u001b[38;5;241m=\u001b[39m\u001b[38;5;124m'\u001b[39m\u001b[38;5;124mAction (u_t) for Trigger 1\u001b[39m\u001b[38;5;124m'\u001b[39m)\n\u001b[0;32m     20\u001b[0m plt\u001b[38;5;241m.\u001b[39mplot(\u001b[38;5;28mrange\u001b[39m(\u001b[38;5;28mlen\u001b[39m(actions)), [a[\u001b[38;5;241m1\u001b[39m] \u001b[38;5;28;01mfor\u001b[39;00m a \u001b[38;5;129;01min\u001b[39;00m actions], label\u001b[38;5;241m=\u001b[39m\u001b[38;5;124m'\u001b[39m\u001b[38;5;124mAction (u_t) for Trigger 2\u001b[39m\u001b[38;5;124m'\u001b[39m)\n",
      "\u001b[1;31mNameError\u001b[0m: name 'plt' is not defined"
     ]
    }
   ],
   "source": [
    "# Simulation\n",
    "num_episodes = 1\n",
    "env = MigraineEnv()\n",
    "states = []\n",
    "actions = []\n",
    "\n",
    "for episode in range(num_episodes):\n",
    "    state = env.reset()\n",
    "    for t in range(env.horizon):\n",
    "        action = env.action_space.sample()  # Randomly sample an action\n",
    "        next_state, _, done, _ = env.step(action)\n",
    "        states.append(next_state)\n",
    "        actions.append(action)\n",
    "        if done:\n",
    "            break\n",
    "\n",
    "# Plotting\n",
    "plt.plot(range(len(states)), states, label='Wellness (y_t+1)')\n",
    "plt.plot(range(len(actions)), [a[0] for a in actions], label='Action (u_t) for Trigger 1')\n",
    "plt.plot(range(len(actions)), [a[1] for a in actions], label='Action (u_t) for Trigger 2')\n",
    "plt.xlabel('Time Step')\n",
    "plt.ylabel('Value')\n",
    "plt.legend()\n",
    "plt.title('Migraine Simulation')\n",
    "plt.show()"
   ]
  },
  {
   "cell_type": "markdown",
   "metadata": {},
   "source": [
    "State : {0, 1} means either no migraine or yes migraine. \n",
    "\n",
    "Action: {0, 1} means either you are exposed or not exposed."
   ]
  },
  {
   "cell_type": "code",
   "execution_count": null,
   "metadata": {},
   "outputs": [],
   "source": []
  }
 ],
 "metadata": {
  "interpreter": {
   "hash": "0ad6d465b1f00f693579d3fbe18bdb7c555d68db1f42724efaa7a1835d266931"
  },
  "kernelspec": {
   "display_name": "Python 3 (ipykernel)",
   "language": "python",
   "name": "python3"
  },
  "language_info": {
   "codemirror_mode": {
    "name": "ipython",
    "version": 3
   },
   "file_extension": ".py",
   "mimetype": "text/x-python",
   "name": "python",
   "nbconvert_exporter": "python",
   "pygments_lexer": "ipython3",
   "version": "3.9.12"
  }
 },
 "nbformat": 4,
 "nbformat_minor": 2
}
