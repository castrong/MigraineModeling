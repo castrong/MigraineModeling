{
 "cells": [
  {
   "cell_type": "code",
   "execution_count": 30,
   "metadata": {},
   "outputs": [],
   "source": [
    "import gym\n",
    "from gym import spaces\n",
    "import numpy as np\n",
    "import math\n",
    "\n",
    "def sigmoid(x):\n",
    "  return 1 / (1 + math.exp(-x))"
   ]
  },
  {
   "cell_type": "code",
   "execution_count": 22,
   "metadata": {},
   "outputs": [
    {
     "name": "stdout",
     "output_type": "stream",
     "text": [
      "[array([0, 1, 0], dtype=int8), array([1, 0, 1], dtype=int8), array([1, 1, 1], dtype=int8), array([0, 0, 1], dtype=int8), array([1, 1, 0], dtype=int8)]\n"
     ]
    }
   ],
   "source": [
    "space = spaces.MultiBinary(3)\n",
    "print([space.sample() for _ in range(5)])"
   ]
  },
  {
   "cell_type": "code",
   "execution_count": 53,
   "metadata": {},
   "outputs": [],
   "source": [
    "class MigraineEnv(gym.Env):\n",
    "    def __init__(self, \n",
    "                 num_triggers: int = 2,\n",
    "                 horizon: int = 20,\n",
    "                 state_coefs: float = 1.0,\n",
    "                 action_coefs: np.array = np.array([1.0, 2.0]),\n",
    "                 shift: float = 0.0):\n",
    "        self.num_triggers = num_triggers\n",
    "        self.horizon = horizon\n",
    "        self.timestep = 0\n",
    "        self.state_coefs = state_coefs\n",
    "        self.action_coefs = action_coefs\n",
    "        self.observation_space = spaces.Discrete(2) # 0: no migraine, 1: migraine\n",
    "        self.action_space = spaces.MultiBinary(num_triggers) # binary representation\n",
    "        self.state = self.observation_space.sample() \n",
    "        \n",
    "        # Construct transition matrix\n",
    "        self.T = np.zeros((2, 2**num_triggers, 2)) # (next_state, action, state)\n",
    "        for a in range(2**num_triggers):\n",
    "            for s in range(2):\n",
    "                binary_action = self._int_to_binary(a, self.num_triggers)\n",
    "                self.T[1, a, s] = sigmoid(state_coefs*s+np.dot(action_coefs, binary_action)+shift)\n",
    "                self.T[0, a, s] = 1 - self.T[1, a, s]\n",
    "\n",
    "    def reset(self):\n",
    "        # Reset the environment to its initial state and return the initial observation\n",
    "        self.state = self.observation_space.sample()\n",
    "        self.timestep = 0\n",
    "        return self.state\n",
    "\n",
    "    def step(self, action: np.array):\n",
    "        # Take an action in the environment and return the new observation, reward, and done flag\n",
    "        int_action = self._binary_to_int(action)\n",
    "        prob = self.T[1, int_action, self.state]\n",
    "        self.state = np.random.choice(2, size=1, p = [1-prob, prob])\n",
    "        self.timestep += 1\n",
    "        return self.state, 0, self.timestep >= self.horizon\n",
    "\n",
    "    def render(self, mode='human'):\n",
    "        pass\n",
    "    \n",
    "    def _int_to_binary(self, input, desired_len):\n",
    "        binary_representation = [int(x) for x in bin(input)[2:]]\n",
    "        binary_array = np.zeros(desired_len, dtype=int)\n",
    "        binary_array[-len(binary_representation):] = binary_representation\n",
    "        return binary_array\n",
    "    \n",
    "    def _binary_to_int(self, input):\n",
    "        binary_string = ''.join(map(str, input))\n",
    "        int_value = int(binary_string, 2)\n",
    "        return int_value\n",
    "        "
   ]
  },
  {
   "cell_type": "code",
   "execution_count": 54,
   "metadata": {},
   "outputs": [],
   "source": [
    "# Test out environment\n",
    "env = MigraineEnv(num_triggers=2, horizon=10, state_coefs=1.0, action_coefs=[1.0, 2.0], shift=0)"
   ]
  },
  {
   "cell_type": "code",
   "execution_count": null,
   "metadata": {},
   "outputs": [],
   "source": [
    "dataset = {'observations': [], 'actions': []}\n",
    "num_trajs = 10\n",
    "for n in range(num_trajs):\n",
    "    traj_obs, traj_act = [], []\n",
    "    "
   ]
  },
  {
   "cell_type": "code",
   "execution_count": 55,
   "metadata": {},
   "outputs": [
    {
     "data": {
      "text/plain": [
       "0"
      ]
     },
     "execution_count": 55,
     "metadata": {},
     "output_type": "execute_result"
    }
   ],
   "source": [
    "env.reset()"
   ]
  },
  {
   "cell_type": "code",
   "execution_count": null,
   "metadata": {},
   "outputs": [],
   "source": []
  }
 ],
 "metadata": {
  "interpreter": {
   "hash": "0ad6d465b1f00f693579d3fbe18bdb7c555d68db1f42724efaa7a1835d266931"
  },
  "kernelspec": {
   "display_name": "Python 3.8.18 ('migraine')",
   "language": "python",
   "name": "python3"
  },
  "language_info": {
   "codemirror_mode": {
    "name": "ipython",
    "version": 3
   },
   "file_extension": ".py",
   "mimetype": "text/x-python",
   "name": "python",
   "nbconvert_exporter": "python",
   "pygments_lexer": "ipython3",
   "version": "3.8.18"
  },
  "orig_nbformat": 4
 },
 "nbformat": 4,
 "nbformat_minor": 2
}
